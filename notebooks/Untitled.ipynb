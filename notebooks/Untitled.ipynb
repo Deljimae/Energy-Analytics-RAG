{
 "cells": [
  {
   "cell_type": "code",
   "execution_count": 30,
   "id": "d891366a-b9ff-492a-b636-b0ab36b55510",
   "metadata": {},
   "outputs": [],
   "source": [
    "import pandas as pd\n",
    "import os"
   ]
  },
  {
   "cell_type": "code",
   "execution_count": 31,
   "id": "09b06da4-c7ff-45a0-98e3-983a72cb98b1",
   "metadata": {},
   "outputs": [],
   "source": [
    "from google import genai\n",
    "from dotenv import load_dotenv\n",
    "\n",
    "load_dotenv()\n",
    "\n",
    "api_key = os.getenv(\"GEMINI_API_KEY\")\n",
    "client = genai.Client(api_key=api_key)"
   ]
  },
  {
   "cell_type": "code",
   "execution_count": 32,
   "id": "14d68614-bb16-4d60-a8d4-ad450c8729e4",
   "metadata": {},
   "outputs": [],
   "source": [
    "df = pd.read_csv(\"data.csv\")"
   ]
  },
  {
   "cell_type": "code",
   "execution_count": 33,
   "id": "1b271225-6ab6-4008-9946-73456b40371c",
   "metadata": {},
   "outputs": [],
   "source": [
    "import minsearch"
   ]
  },
  {
   "cell_type": "code",
   "execution_count": 34,
   "id": "0541d570-f405-4a14-b2a1-dc506061bc6d",
   "metadata": {},
   "outputs": [
    {
     "data": {
      "text/plain": [
       "Index(['country_long', 'name', 'primary_fuel', 'capacity_mw',\n",
       "       'commissioning_year', 'passage'],\n",
       "      dtype='object')"
      ]
     },
     "execution_count": 34,
     "metadata": {},
     "output_type": "execute_result"
    }
   ],
   "source": [
    "df.columns"
   ]
  },
  {
   "cell_type": "code",
   "execution_count": 35,
   "id": "e1bbff94-544e-4fef-86f3-ba20132297ec",
   "metadata": {},
   "outputs": [],
   "source": []
  },
  {
   "cell_type": "code",
   "execution_count": 36,
   "id": "a4148651-4379-46e0-bdb4-622c8a5315f0",
   "metadata": {},
   "outputs": [
    {
     "data": {
      "text/html": [
       "<div>\n",
       "<style scoped>\n",
       "    .dataframe tbody tr th:only-of-type {\n",
       "        vertical-align: middle;\n",
       "    }\n",
       "\n",
       "    .dataframe tbody tr th {\n",
       "        vertical-align: top;\n",
       "    }\n",
       "\n",
       "    .dataframe thead th {\n",
       "        text-align: right;\n",
       "    }\n",
       "</style>\n",
       "<table border=\"1\" class=\"dataframe\">\n",
       "  <thead>\n",
       "    <tr style=\"text-align: right;\">\n",
       "      <th></th>\n",
       "      <th>country_long</th>\n",
       "      <th>name</th>\n",
       "      <th>primary_fuel</th>\n",
       "      <th>capacity_mw</th>\n",
       "      <th>commissioning_year</th>\n",
       "      <th>passage</th>\n",
       "    </tr>\n",
       "  </thead>\n",
       "  <tbody>\n",
       "    <tr>\n",
       "      <th>0</th>\n",
       "      <td>United Kingdom</td>\n",
       "      <td>14 Tullywiggan Road</td>\n",
       "      <td>Biomass</td>\n",
       "      <td>1.000</td>\n",
       "      <td>&lt;NA&gt;</td>\n",
       "      <td>The 14 Tullywiggan Road power plant in United ...</td>\n",
       "    </tr>\n",
       "    <tr>\n",
       "      <th>1</th>\n",
       "      <td>United Kingdom</td>\n",
       "      <td>289 Finvoy Road</td>\n",
       "      <td>Solar</td>\n",
       "      <td>5.900</td>\n",
       "      <td>&lt;NA&gt;</td>\n",
       "      <td>The 289 Finvoy Road power plant in United King...</td>\n",
       "    </tr>\n",
       "    <tr>\n",
       "      <th>2</th>\n",
       "      <td>United Kingdom</td>\n",
       "      <td>30 Acres</td>\n",
       "      <td>Solar</td>\n",
       "      <td>4.965</td>\n",
       "      <td>&lt;NA&gt;</td>\n",
       "      <td>The 30 Acres power plant in United Kingdom. It...</td>\n",
       "    </tr>\n",
       "    <tr>\n",
       "      <th>3</th>\n",
       "      <td>United Kingdom</td>\n",
       "      <td>A C Shropshire (Farm AD)</td>\n",
       "      <td>Biomass</td>\n",
       "      <td>2.500</td>\n",
       "      <td>&lt;NA&gt;</td>\n",
       "      <td>The A C Shropshire (Farm AD) power plant in Un...</td>\n",
       "    </tr>\n",
       "    <tr>\n",
       "      <th>4</th>\n",
       "      <td>United Kingdom</td>\n",
       "      <td>A'Chruach</td>\n",
       "      <td>Wind</td>\n",
       "      <td>42.600</td>\n",
       "      <td>&lt;NA&gt;</td>\n",
       "      <td>The A'Chruach power plant in United Kingdom. I...</td>\n",
       "    </tr>\n",
       "    <tr>\n",
       "      <th>...</th>\n",
       "      <td>...</td>\n",
       "      <td>...</td>\n",
       "      <td>...</td>\n",
       "      <td>...</td>\n",
       "      <td>...</td>\n",
       "      <td>...</td>\n",
       "    </tr>\n",
       "    <tr>\n",
       "      <th>12579</th>\n",
       "      <td>United States of America</td>\n",
       "      <td>Zion Landfill Gas to Energy Facility</td>\n",
       "      <td>Waste</td>\n",
       "      <td>7.000</td>\n",
       "      <td>2003</td>\n",
       "      <td>The Zion Landfill Gas to Energy Facility power...</td>\n",
       "    </tr>\n",
       "    <tr>\n",
       "      <th>12580</th>\n",
       "      <td>United States of America</td>\n",
       "      <td>Zorn</td>\n",
       "      <td>Gas</td>\n",
       "      <td>18.000</td>\n",
       "      <td>1969</td>\n",
       "      <td>The Zorn power plant in United States of Ameri...</td>\n",
       "    </tr>\n",
       "    <tr>\n",
       "      <th>12581</th>\n",
       "      <td>United States of America</td>\n",
       "      <td>Zotos International WPGF</td>\n",
       "      <td>Wind</td>\n",
       "      <td>3.400</td>\n",
       "      <td>2012</td>\n",
       "      <td>The Zotos International WPGF power plant in Un...</td>\n",
       "    </tr>\n",
       "    <tr>\n",
       "      <th>12582</th>\n",
       "      <td>United States of America</td>\n",
       "      <td>Zumbro Community Solar Garden</td>\n",
       "      <td>Solar</td>\n",
       "      <td>1.000</td>\n",
       "      <td>2018</td>\n",
       "      <td>The Zumbro Community Solar Garden power plant ...</td>\n",
       "    </tr>\n",
       "    <tr>\n",
       "      <th>12583</th>\n",
       "      <td>United States of America</td>\n",
       "      <td>eBay - South Jordan</td>\n",
       "      <td>Gas</td>\n",
       "      <td>9.800</td>\n",
       "      <td>2014</td>\n",
       "      <td>The eBay - South Jordan power plant in United ...</td>\n",
       "    </tr>\n",
       "  </tbody>\n",
       "</table>\n",
       "<p>12584 rows × 6 columns</p>\n",
       "</div>"
      ],
      "text/plain": [
       "                   country_long                                  name  \\\n",
       "0                United Kingdom                   14 Tullywiggan Road   \n",
       "1                United Kingdom                       289 Finvoy Road   \n",
       "2                United Kingdom                              30 Acres   \n",
       "3                United Kingdom              A C Shropshire (Farm AD)   \n",
       "4                United Kingdom                             A'Chruach   \n",
       "...                         ...                                   ...   \n",
       "12579  United States of America  Zion Landfill Gas to Energy Facility   \n",
       "12580  United States of America                                  Zorn   \n",
       "12581  United States of America              Zotos International WPGF   \n",
       "12582  United States of America         Zumbro Community Solar Garden   \n",
       "12583  United States of America                   eBay - South Jordan   \n",
       "\n",
       "      primary_fuel  capacity_mw  commissioning_year  \\\n",
       "0          Biomass        1.000                <NA>   \n",
       "1            Solar        5.900                <NA>   \n",
       "2            Solar        4.965                <NA>   \n",
       "3          Biomass        2.500                <NA>   \n",
       "4             Wind       42.600                <NA>   \n",
       "...            ...          ...                 ...   \n",
       "12579        Waste        7.000                2003   \n",
       "12580          Gas       18.000                1969   \n",
       "12581         Wind        3.400                2012   \n",
       "12582        Solar        1.000                2018   \n",
       "12583          Gas        9.800                2014   \n",
       "\n",
       "                                                 passage  \n",
       "0      The 14 Tullywiggan Road power plant in United ...  \n",
       "1      The 289 Finvoy Road power plant in United King...  \n",
       "2      The 30 Acres power plant in United Kingdom. It...  \n",
       "3      The A C Shropshire (Farm AD) power plant in Un...  \n",
       "4      The A'Chruach power plant in United Kingdom. I...  \n",
       "...                                                  ...  \n",
       "12579  The Zion Landfill Gas to Energy Facility power...  \n",
       "12580  The Zorn power plant in United States of Ameri...  \n",
       "12581  The Zotos International WPGF power plant in Un...  \n",
       "12582  The Zumbro Community Solar Garden power plant ...  \n",
       "12583  The eBay - South Jordan power plant in United ...  \n",
       "\n",
       "[12584 rows x 6 columns]"
      ]
     },
     "execution_count": 36,
     "metadata": {},
     "output_type": "execute_result"
    }
   ],
   "source": [
    "df"
   ]
  },
  {
   "cell_type": "code",
   "execution_count": 37,
   "id": "78f5f1fc-cfa7-44dd-9c61-aaa4b2bf4469",
   "metadata": {},
   "outputs": [],
   "source": [
    "documents = df.to_dict(orient='records')"
   ]
  },
  {
   "cell_type": "code",
   "execution_count": 38,
   "id": "ff6a5b26-18f7-4f4b-9b75-84addfca9f73",
   "metadata": {},
   "outputs": [],
   "source": [
    "index = minsearch.Index(\n",
    "    text_fields=['country_long', 'name', 'passage'],\n",
    "    keyword_fields=[]\n",
    ")"
   ]
  },
  {
   "cell_type": "code",
   "execution_count": 39,
   "id": "0882266a-8b51-4faf-a707-78c5fa22aaca",
   "metadata": {},
   "outputs": [
    {
     "data": {
      "text/plain": [
       "<minsearch.minsearch.Index at 0x7f18edcf8100>"
      ]
     },
     "execution_count": 39,
     "metadata": {},
     "output_type": "execute_result"
    }
   ],
   "source": [
    "index.fit(documents)"
   ]
  },
  {
   "cell_type": "code",
   "execution_count": 40,
   "id": "58a4d887-cd01-492c-8e98-4ce7c4fe453d",
   "metadata": {},
   "outputs": [],
   "source": [
    "query = \"Drax Power Station capacity in MW\""
   ]
  },
  {
   "cell_type": "code",
   "execution_count": 41,
   "id": "2aa95f00-43fa-4e8e-acb5-146619988e1b",
   "metadata": {},
   "outputs": [],
   "source": [
    "def search(query):\n",
    "    \n",
    "    results = index.search(\n",
    "        query=query,\n",
    "        filter_dict={},\n",
    "        num_results=1\n",
    "    )\n",
    "    return results"
   ]
  },
  {
   "cell_type": "code",
   "execution_count": 42,
   "id": "96cb7cdf-8514-4886-bc1d-3412ff063016",
   "metadata": {},
   "outputs": [
    {
     "data": {
      "text/plain": [
       "{'country_long': 'United Kingdom',\n",
       " 'name': '14 Tullywiggan Road',\n",
       " 'primary_fuel': 'Biomass',\n",
       " 'capacity_mw': 1.0,\n",
       " 'commissioning_year': None,\n",
       " 'passage': 'The 14 Tullywiggan Road power plant in United Kingdom. It is a Biomass facility with a capacity of 1 MW. Located at latitude 55 and longitude -7.'}"
      ]
     },
     "execution_count": 42,
     "metadata": {},
     "output_type": "execute_result"
    }
   ],
   "source": [
    "documents[0]"
   ]
  },
  {
   "cell_type": "code",
   "execution_count": 44,
   "id": "2eaabb54-d4ef-4a89-9c6a-83e4e275090f",
   "metadata": {},
   "outputs": [],
   "source": [
    "\n",
    "prompt_template = \"\"\"\n",
    "You're an Energy plants assistant. Answer the QUESTION based on the CONTEXT from the GPPD.\n",
    "Use only the facts from the CONTEXT when answering the QUESTION.\n",
    "\n",
    "QUESTION: {question}\n",
    "\n",
    "CONTEXT: \n",
    "{context}\n",
    "\"\"\".strip()\n",
    "\n",
    "\n",
    "entry_template = \"\"\"\n",
    "country_long: {country_long},\n",
    "name: {name},\n",
    "primary_fuel: {primary_fuel},\n",
    "capacity_mw: {capacity_mw},\n",
    "commissioning_year: {commissioning_year},\n",
    "passage: {passage}\n",
    "\"\"\".strip()\n",
    "    \n",
    "def build_prompt(query, search_results):\n",
    "    context = \"\"\n",
    "    \n",
    "    for doc in search_results:\n",
    "        context = context + entry_template.format(**doc) + \"\\n\"\n",
    "    \n",
    "    prompt = prompt_template.format(question=query, context=context).strip()\n",
    "    return prompt\n"
   ]
  },
  {
   "cell_type": "code",
   "execution_count": 45,
   "id": "c56b2aba-489a-46cb-a815-738f015c819b",
   "metadata": {},
   "outputs": [
    {
     "name": "stdout",
     "output_type": "stream",
     "text": [
      "You're an Energy plants assistant. Answer the QUESTION based on the CONTEXT from the GPPD.\n",
      "Use only the facts from the CONTEXT when answering the QUESTION.\n",
      "\n",
      "QUESTION: Drax Power Station capacity in MW\n",
      "\n",
      "CONTEXT: \n",
      "country_long: United Kingdom,\n",
      "name: Drax,\n",
      "primary_fuel: Coal,\n",
      "capacity_mw: 1980.0,\n",
      "commissioning_year: None,\n",
      "passage: The Drax power plant in United Kingdom. It is a Coal facility with a capacity of 1980 MW. Located at latitude 54 and longitude -1.\n"
     ]
    }
   ],
   "source": [
    "search_results = search(query)\n",
    "prompt = build_prompt(query, search_results)\n",
    "print(prompt)"
   ]
  },
  {
   "cell_type": "code",
   "execution_count": 57,
   "id": "3fa48182-4f2b-47c8-926c-b654eb6b59a7",
   "metadata": {},
   "outputs": [],
   "source": [
    "def llm(prompt):\n",
    "    response = client.models.generate_content(\n",
    "        model=\"gemini-2.5-flash\",\n",
    "        contents=prompt\n",
    "    )\n",
    "    return response.text"
   ]
  },
  {
   "cell_type": "code",
   "execution_count": 58,
   "id": "a40c0105-5906-42a0-ae32-19034a684a03",
   "metadata": {},
   "outputs": [],
   "source": [
    "def rag(query):\n",
    "    search_results = search(query)\n",
    "    prompt = build_prompt(query, search_results)\n",
    "    answer = llm(prompt)\n",
    "    return answer"
   ]
  },
  {
   "cell_type": "code",
   "execution_count": 59,
   "id": "c934be8b-ad74-4a7b-bfcc-ac9b37b61491",
   "metadata": {},
   "outputs": [
    {
     "name": "stdout",
     "output_type": "stream",
     "text": [
      "Drax Power Station has a capacity of 1980 MW.\n"
     ]
    }
   ],
   "source": [
    "answer = rag(query)\n",
    "print(answer)"
   ]
  },
  {
   "cell_type": "code",
   "execution_count": null,
   "id": "3083b663-e996-4c8c-953d-074113842861",
   "metadata": {},
   "outputs": [],
   "source": []
  }
 ],
 "metadata": {
  "kernelspec": {
   "display_name": "Python 3 (ipykernel)",
   "language": "python",
   "name": "python3"
  },
  "language_info": {
   "codemirror_mode": {
    "name": "ipython",
    "version": 3
   },
   "file_extension": ".py",
   "mimetype": "text/x-python",
   "name": "python",
   "nbconvert_exporter": "python",
   "pygments_lexer": "ipython3",
   "version": "3.10.12"
  }
 },
 "nbformat": 4,
 "nbformat_minor": 5
}
