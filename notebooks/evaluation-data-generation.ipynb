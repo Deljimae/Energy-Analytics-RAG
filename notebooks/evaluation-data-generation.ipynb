{
 "cells": [
  {
   "cell_type": "code",
   "execution_count": 1,
   "id": "1e173fd6-59ee-4937-82a9-487380a96b54",
   "metadata": {},
   "outputs": [],
   "source": [
    "import pandas as pd\n",
    "import os"
   ]
  },
  {
   "cell_type": "code",
   "execution_count": 2,
   "id": "e9c85bd1-9673-40a0-b6fa-a49ca9ee0b18",
   "metadata": {},
   "outputs": [],
   "source": [
    "df = pd.read_csv('../data/data.csv')\n",
    "documents = df.to_dict(orient='records')"
   ]
  },
  {
   "cell_type": "code",
   "execution_count": 3,
   "id": "0e71f176-e047-4534-88e5-ac6dd8142711",
   "metadata": {},
   "outputs": [],
   "source": [
    "from google import genai\n",
    "from dotenv import load_dotenv\n",
    "\n",
    "load_dotenv()\n",
    "\n",
    "api_key = os.getenv(\"GEMINI_API_KEY\")\n",
    "client = genai.Client(api_key=api_key)"
   ]
  },
  {
   "cell_type": "code",
   "execution_count": 4,
   "id": "0b51ac96-6ab2-4147-98f9-1cf509ab9884",
   "metadata": {},
   "outputs": [
    {
     "data": {
      "text/plain": [
       "{'id': 0,\n",
       " 'country_long': 'United Kingdom',\n",
       " 'name': '14 Tullywiggan Road',\n",
       " 'primary_fuel': 'Biomass',\n",
       " 'capacity_mw': 1.0,\n",
       " 'commissioning_year': nan,\n",
       " 'passage': 'The 14 Tullywiggan Road power plant in United Kingdom. It is a Biomass facility with a capacity of 1 MW. Located at latitude 55 and longitude -7.'}"
      ]
     },
     "execution_count": 4,
     "metadata": {},
     "output_type": "execute_result"
    }
   ],
   "source": [
    "documents[0]"
   ]
  },
  {
   "cell_type": "code",
   "execution_count": 5,
   "id": "c6d0bffa-38de-4a1b-9694-1d2ba4763822",
   "metadata": {},
   "outputs": [],
   "source": [
    "prompt_template = \"\"\"\n",
    "You emulate a user using our Global Power Plants RAG.\n",
    "Formulate 3 **natural, complete questions** this user might ask based on the given GPPD record.\n",
    "Each question should be directly inferable from the data, but **do not include any answers**.\n",
    "Focus on making the questions clear, concise, and specific to the record.\n",
    "\n",
    "The record:\n",
    "\n",
    "country_long: {country_long},\n",
    "name: {name},\n",
    "primary_fuel: {primary_fuel},\n",
    "capacity_mw: {capacity_mw},\n",
    "commissioning_year: {commissioning_year},\n",
    "passage: {passage}\n",
    "\n",
    "Provide the output as valid JSON without using code blocks:\n",
    "{{ \"questions\": [\"question1\", \"question2\", \"question3\", \"question4\", \"question5\"] }}\n",
    "\"\"\".strip()\n"
   ]
  },
  {
   "cell_type": "code",
   "execution_count": 6,
   "id": "879c4dfc-1660-4be7-b3b9-430847cc4f68",
   "metadata": {},
   "outputs": [],
   "source": [
    "prompt = prompt_template.format(**documents[0])"
   ]
  },
  {
   "cell_type": "code",
   "execution_count": 7,
   "id": "656fdf57-7f0b-41e3-95e6-88083e6ef4d2",
   "metadata": {},
   "outputs": [],
   "source": [
    "def llm(prompt):\n",
    "    response = client.models.generate_content(\n",
    "        model=\"gemini-2.5-flash\",\n",
    "        contents=prompt\n",
    "    )\n",
    "    return response.text"
   ]
  },
  {
   "cell_type": "code",
   "execution_count": 8,
   "id": "8b2b1ba9-6b40-402d-9dbb-a406ddb2cbeb",
   "metadata": {},
   "outputs": [],
   "source": [
    "questions = llm(prompt)"
   ]
  },
  {
   "cell_type": "code",
   "execution_count": 9,
   "id": "ad73a58f-87cd-424a-bee4-e6c7475c5363",
   "metadata": {},
   "outputs": [],
   "source": [
    "import json"
   ]
  },
  {
   "cell_type": "code",
   "execution_count": 10,
   "id": "1002d04b-d597-4743-a5b8-8b2d73a9b0a1",
   "metadata": {},
   "outputs": [
    {
     "data": {
      "text/plain": [
       "{'questions': ['What is the primary fuel source used by the 14 Tullywiggan Road power plant in the United Kingdom?',\n",
       "  'What is the electrical generation capacity in megawatts of the 14 Tullywiggan Road facility?',\n",
       "  'Do you have information regarding the commissioning year for the 14 Tullywiggan Road Biomass plant?']}"
      ]
     },
     "execution_count": 10,
     "metadata": {},
     "output_type": "execute_result"
    }
   ],
   "source": [
    "json.loads(questions)"
   ]
  },
  {
   "cell_type": "code",
   "execution_count": 11,
   "id": "504948dc-9a43-4f7d-b5c8-a0d78e41db3b",
   "metadata": {},
   "outputs": [],
   "source": [
    "sampled_docs = df.sample(100, random_state=42).to_dict(orient=\"records\")"
   ]
  },
  {
   "cell_type": "code",
   "execution_count": 12,
   "id": "045828dc-bf09-481a-9cdd-ff16c933f493",
   "metadata": {},
   "outputs": [],
   "source": [
    "def generate_questions(doc):\n",
    "    prompt = prompt_template.format(**doc)\n",
    "\n",
    "    response = client.models.generate_content(\n",
    "        model=\"gemini-2.5-flash\",\n",
    "        contents=prompt\n",
    "    )\n",
    "    return response.text"
   ]
  },
  {
   "cell_type": "code",
   "execution_count": 13,
   "id": "773260a8-701c-482a-afce-a67ed7bcac2e",
   "metadata": {},
   "outputs": [],
   "source": [
    "from tqdm.auto import tqdm"
   ]
  },
  {
   "cell_type": "code",
   "execution_count": 14,
   "id": "c67093e0-25b5-4043-9d42-709dba323fb7",
   "metadata": {},
   "outputs": [],
   "source": [
    "results = {}"
   ]
  },
  {
   "cell_type": "code",
   "execution_count": 15,
   "id": "faefcf00-ec27-445b-a0cf-25b43b8bd0f0",
   "metadata": {},
   "outputs": [
    {
     "data": {
      "application/vnd.jupyter.widget-view+json": {
       "model_id": "5cfc753a31db44d78a4a9891fad12d23",
       "version_major": 2,
       "version_minor": 0
      },
      "text/plain": [
       "  0%|          | 0/100 [00:00<?, ?it/s]"
      ]
     },
     "metadata": {},
     "output_type": "display_data"
    }
   ],
   "source": [
    "for doc in tqdm(sampled_docs): \n",
    "    doc_id = doc['id']\n",
    "    if doc_id in results:\n",
    "        continue\n",
    "\n",
    "    questions = generate_questions(doc)\n",
    "    results[doc_id] = questions"
   ]
  },
  {
   "cell_type": "code",
   "execution_count": 16,
   "id": "ae0d5de7-e810-4e3c-b17e-2db7df59fa92",
   "metadata": {
    "scrolled": true
   },
   "outputs": [
    {
     "data": {
      "text/plain": [
       "{11495: '{ \"questions\": [\\n    \"What is the primary fuel source for the Townsend Hydro power plant?\",\\n    \"What is the generation capacity of the Townsend Hydro power plant in megawatts?\",\\n    \"In what year was the Townsend Hydro power plant commissioned?\"\\n  ]\\n}',\n",
       " 6850: '{\"questions\": [\\n  \"What is the primary fuel source for the IKEA Joliet Rooftop PV System power plant?\",\\n  \"What is the electrical generation capacity of the IKEA Joliet Rooftop PV System in megawatts?\",\\n  \"In what year was the IKEA Joliet Rooftop PV System commissioned?\"\\n]}',\n",
       " 11255: '{\\n  \"questions\": [\\n    \"Where is the TPE Whitney Solar LLC power plant located and what is its primary fuel type?\",\\n    \"What is the capacity in megawatts of the TPE Whitney Solar LLC power plant?\",\\n    \"When was the TPE Whitney Solar LLC plant commissioned, and what are its geographical coordinates?\"\\n  ]\\n}',\n",
       " 7187: '{\\n  \"questions\": [\\n    \"In which country is the Judith Gap Wind Energy Center power plant located?\",\\n    \"What is the primary fuel source and generation capacity of the Judith Gap Wind Energy Center?\",\\n    \"When was the Judith Gap Wind Energy Center commissioned, and what are its geographical coordinates?\"\\n  ]\\n}',\n",
       " 5304: '{\\n  \"questions\": [\\n    \"What is the primary fuel source for the ENEL Salt Wells LLC power plant and what is its capacity?\",\\n    \"In which country is the ENEL Salt Wells LLC power plant located, and what year was it commissioned?\",\\n    \"What are the latitude and longitude coordinates for the ENEL Salt Wells LLC power plant?\"\\n  ]\\n}',\n",
       " 11659: '{\\n  \"questions\": [\\n    \"In what country is the USS Lake Patterson Solar CSG power plant located?\",\\n    \"What is the primary fuel source and generation capacity of the USS Lake Patterson Solar CSG power plant?\",\\n    \"What year did the USS Lake Patterson Solar CSG power plant begin operations?\"\\n  ]\\n}',\n",
       " 5735: '{\\n  \"questions\": [\\n    \"What is the primary fuel type and commissioning year for the Flint Creek Hydroelectric LLC power plant?\",\\n    \"In which country is the Flint Creek Hydroelectric LLC power plant located, and what is its generation capacity in megawatts?\",\\n    \"Can you provide the latitude and longitude coordinates for the Flint Creek Hydroelectric LLC power plant?\"\\n  ]\\n}',\n",
       " 6302: '{\\n  \"questions\": [\\n    \"In which country is the Greater Sandhill I power plant located?\",\\n    \"What is the primary fuel type and capacity of the Greater Sandhill I facility?\",\\n    \"When was the Greater Sandhill I power plant commissioned?\"\\n  ]\\n}',\n",
       " 396: '{\\n  \"questions\": [\\n    \"What type of fuel does the Burton Farm power plant use, and in which country is it located?\",\\n    \"What is the generating capacity of the Burton Farm power plant?\",\\n    \"Do you have information on the commissioning year for the Burton Farm power plant?\"\\n  ]\\n}',\n",
       " 1655: '{\\n  \"questions\": [\\n    \"In which country is the Manor Farm (Monmouthshire) power plant located?\",\\n    \"What is the primary fuel source for the Manor Farm (Monmouthshire) power plant?\",\\n    \"What is the commissioning year for the Manor Farm (Monmouthshire) power plant?\"\\n  ]\\n}',\n",
       " 6390: '{ \"questions\": [\\n  \"What is the primary fuel type and capacity in megawatts of the Guyton Community Solar power plant?\",\\n  \"In which country is the Guyton Community Solar facility located, and what year was it commissioned?\",\\n  \"Can you provide the latitude and longitude coordinates for the Guyton Community Solar plant?\"\\n]}',\n",
       " 5174: '{\\n  \"questions\": [\\n    \"What is the primary fuel source for the Dodge Center Solar plant, and in which country is it located?\",\\n    \"What is the generating capacity of the Dodge Center Solar facility, and when was it commissioned?\",\\n    \"Could you provide the latitude and longitude coordinates for the Dodge Center Solar power plant?\"\\n  ]\\n}',\n",
       " 8354: '{\\n  \"questions\": [\\n    \"In which country is the Mitchell Solar LLC power plant located?\",\\n    \"What is the primary fuel source for the Mitchell Solar LLC facility?\",\\n    \"What is the generating capacity of the Mitchell Solar LLC power plant?\",\\n    \"In what year did the Mitchell Solar LLC power plant begin operations?\",\\n    \"What are the geographical coordinates of the Mitchell Solar LLC power plant?\"\\n  ]\\n}',\n",
       " 7458: '{\\n  \"questions\": [\\n    \"In which country is the La Farge power plant located, and what are its latitude and longitude coordinates?\",\\n    \"What is the primary fuel type used by the La Farge power plant, and what is its generating capacity in megawatts?\",\\n    \"In what year was the La Farge power plant commissioned?\"\\n  ]\\n}',\n",
       " 6417: '{\\n  \"questions\": [\\n    \"In which country is the HTW Plant 303 COGEN power plant located?\",\\n    \"What type of primary fuel does the HTW Plant 303 COGEN use?\",\\n    \"When was the HTW Plant 303 COGEN commissioned and what is its total generation capacity in megawatts?\"\\n  ]\\n}',\n",
       " 4483: '{\\n  \"questions\": [\\n    \"What is the primary fuel type of the Cibola power plant?\",\\n    \"In which country is the Cibola power plant located?\",\\n    \"When was the Cibola power plant commissioned?\"\\n  ]\\n}',\n",
       " 3978: '{\\n  \"questions\": [\\n    \"What is the primary fuel source for the Butler Ridge power plant?\",\\n    \"When did the Butler Ridge power plant begin operations?\",\\n    \"What are the geographical coordinates of the Butler Ridge power plant?\"\\n  ]\\n}',\n",
       " 3944: '{ \"questions\": [\\n    \"What is the primary energy source for the Buidling L power plant?\",\\n    \"How many megawatts can the Buidling L power plant generate?\",\\n    \"When was the Buidling L power plant first put into service?\"\\n  ]\\n}',\n",
       " 8400: '{\\n  \"questions\": [\\n    \"What is the primary fuel source for the Montague Wind Power Facility LLC?\",\\n    \"What is the generating capacity of the Montague Wind Power Facility LLC?\",\\n    \"In what year was the Montague Wind Power Facility LLC commissioned?\"\\n  ]\\n}',\n",
       " 4190: '{\\n  \"questions\": [\\n    \"What is the primary fuel used by the Cannon Falls Energy Center?\",\\n    \"In what year did the Cannon Falls Energy Center begin operations?\",\\n    \"What are the geographic coordinates (latitude and longitude) of the Cannon Falls Energy Center?\"\\n  ]\\n}',\n",
       " 8763: '{ \"questions\": [\\n    \"Where is the Nikiski Combined Cycle power plant located?\",\\n    \"What type of primary fuel does the Nikiski Combined Cycle power plant use?\",\\n    \"What is the power generation capacity of the Nikiski Combined Cycle plant in megawatts?\"\\n  ]\\n}',\n",
       " 8725: '{\\n  \"questions\": [\\n    \"What is the capacity of the New York Presbyterian Hospital-168th St power plant?\",\\n    \"When was the New York Presbyterian Hospital-168th St power plant commissioned?\",\\n    \"What is the primary fuel type used by the New York Presbyterian Hospital-168th St power plant?\"\\n  ]\\n}',\n",
       " 8263: '{\\n  \"questions\": [\\n    \"What is the name of the 50 MW solar power plant commissioned in 2018 in the United States?\",\\n    \"What is the primary fuel source for the Midway Solar Farm 1?\",\\n    \"What are the geographical coordinates of the Midway Solar Farm 1?\"\\n  ]\\n}',\n",
       " 4653: '{\\n  \"questions\": [\\n    \"What type of fuel does the Comanche (OK) power plant utilize?\",\\n    \"What is the operational capacity of the Comanche (OK) power plant in megawatts?\",\\n    \"What are the geographical coordinates, including latitude and longitude, of the Comanche (OK) power plant?\"\\n  ]\\n}',\n",
       " 5568: '{\\n  \"questions\": [\\n    \"What is the primary fuel source and capacity of the Expressway Solar B power plant?\",\\n    \"In which country is the Expressway Solar B plant located, and when was it commissioned?\",\\n    \"What are the specific latitude and longitude coordinates for the Expressway Solar B facility?\"\\n  ]\\n}',\n",
       " 1575: '{\\n  \"questions\": [\\n    \"What type of power plant is Lochhead and in which country is it located?\",\\n    \"What is the primary fuel source and generation capacity of the Lochhead power plant?\",\\n    \"When was the Lochhead power plant commissioned?\"\\n  ]\\n}',\n",
       " 1237: '{\\n  \"questions\": [\\n    \"What is the primary fuel source for the Horncliffe Quarry (Extension) power plant?\",\\n    \"What is the power generation capacity in megawatts of the Horncliffe Quarry (Extension) facility?\",\\n    \"In which country is the Horncliffe Quarry (Extension) power plant located?\"\\n  ]\\n}',\n",
       " 5582: '{\"questions\": [\"What is the primary fuel type and capacity of the F.D. Kuester Generating Station?\", \"In what year was the F.D. Kuester Generating Station in the United States of America commissioned?\", \"Which country is home to the F.D. Kuester Generating Station?\"]}',\n",
       " 4265: '{\\n  \"questions\": [\\n    \"In which country is the Cascade Solar (TX) power plant located?\",\\n    \"What is the primary fuel source for the Cascade Solar (TX) power plant?\",\\n    \"What is the power generation capacity of the Cascade Solar (TX) facility?\"\\n  ]\\n}',\n",
       " 11235: '{\\n  \"questions\": [\\n    \"What is the primary fuel type used by the T B Simon Power Plant?\",\\n    \"What is the generation capacity of the T B Simon Power Plant in megawatts?\",\\n    \"When was the T B Simon Power Plant commissioned?\"\\n  ]\\n}',\n",
       " 3873: '{\\n  \"questions\": [\\n    \"What is the primary fuel type of the Brookfield power plant?\",\\n    \"What is the capacity in megawatts of the Brookfield facility?\",\\n    \"In what year was the Brookfield power plant commissioned?\",\\n    \"Which country is home to the Brookfield power plant?\",\\n    \"What are the latitude and longitude coordinates of the Brookfield power plant?\"\\n  ]\\n}',\n",
       " 2057: '{ \"questions\": [\\n    \"What is the primary fuel source for the Ray power plant in the United Kingdom?\",\\n    \"What is the electrical generation capacity in megawatts of the Ray power plant?\",\\n    \"When was the Ray power plant commissioned?\"\\n  ]\\n}',\n",
       " 7844: '{\\n  \"questions\": [\\n    \"What is the primary fuel type used by the Luna Energy Facility?\",\\n    \"What is the generation capacity in megawatts of the Luna Energy Facility?\",\\n    \"In what year was the Luna Energy Facility commissioned?\"\\n  ]\\n}',\n",
       " 2589: '{ \"questions\": [\\n    \"Where is the Wathegar wind farm located?\",\\n    \"What is the primary fuel type and total capacity of the Wathegar wind farm?\",\\n    \"When was the Wathegar wind farm commissioned?\"\\n  ]\\n}',\n",
       " 10630: '{ \"questions\": [\\n    \"In which country is the Silver Sage Windpower plant located?\",\\n    \"What is the primary fuel source for the Silver Sage Windpower facility?\",\\n    \"What is the generating capacity and commissioning year of the Silver Sage Windpower plant?\"\\n  ]\\n}',\n",
       " 2239: '{\\n  \"questions\": [\\n    \"What is the name of the power plant located in the United Kingdom?\",\\n    \"What is the primary fuel source and capacity in MW of the Sidegate Lane power plant?\",\\n    \"When was the Sidegate Lane power plant commissioned?\"\\n  ]\\n}',\n",
       " 5519: '{\\n  \"questions\": [\\n    \"In which country is the Erickson Station power plant located?\",\\n    \"What is the primary fuel source used by the Erickson Station?\",\\n    \"When was the Erickson Station commissioned and what is its capacity in megawatts?\"\\n  ]\\n}',\n",
       " 6291: '{\\n  \"questions\": [\\n    \"In which country is the Great Divide Solar LLC power plant located and what are its geographic coordinates?\",\\n    \"What is the primary fuel source and the generation capacity in megawatts of the Great Divide Solar LLC facility?\",\\n    \"When was the Great Divide Solar LLC power plant commissioned and began operations?\"\\n  ]\\n}',\n",
       " 218: '{\\n  \"questions\": [\\n    \"In which country is the Berry Burn power plant located?\",\\n    \"What is the primary fuel source for the Berry Burn power plant?\",\\n    \"When was the Berry Burn power plant commissioned?\"\\n  ]\\n}',\n",
       " 10835: '{\"questions\": [\\n  \"What is the primary fuel type and generation capacity of the Southampton Solar LLC power plant?\",\\n  \"In which country is the Southampton Solar LLC power plant located and what year was it commissioned?\",\\n  \"What are the specific latitude and longitude coordinates for the Southampton Solar LLC facility?\"\\n]}',\n",
       " 6134: '{\\n  \"questions\": [\\n    \"Where is the Gilliam South power plant located?\",\\n    \"What is the primary fuel type used by the Gilliam South power plant?\",\\n    \"What is the power generation capacity of the Gilliam South plant?\"\\n  ]\\n}',\n",
       " 2270: '{\\n  \"questions\": [\\n    \"When was the Snarlton Farm (Melksham solar farm) in the United Kingdom commissioned?\",\\n    \"What is the primary fuel type and capacity in megawatts of the Snarlton Farm (Melksham solar farm)?\",\\n    \"Can you provide the country and geographical coordinates for the Snarlton Farm power plant?\"\\n  ]\\n}',\n",
       " 9079: '{\\n  \"questions\": [\\n    \"What is the primary fuel source used by the Oriana Solar Farm?\",\\n    \"In which country is the Oriana Solar Farm located?\",\\n    \"What is the total power generation capacity of the Oriana Solar Farm in megawatts?\"\\n  ]\\n}',\n",
       " 12155: '{\\n  \"questions\": [\\n    \"In which country is the West Campus Cogeneration Facility located?\",\\n    \"What is the primary fuel source for the West Campus Cogeneration Facility?\",\\n    \"What is the generating capacity and commissioning year of the West Campus Cogeneration Facility?\"\\n  ]\\n}',\n",
       " 2932: '{ \"questions\": [\\n    \"What is the primary fuel source for the Alabama River Pulp power plant?\",\\n    \"What is the power generation capacity (in MW) of the Alabama River Pulp plant?\",\\n    \"When was the Alabama River Pulp power plant commissioned, and in which country is it located?\"\\n  ]\\n}',\n",
       " 11874: '{\\n  \"questions\": [\\n    \"What is the primary fuel source for the Vineland Headquarters power plant in the United States of America?\",\\n    \"What is the capacity of the Vineland Headquarters facility and when was it commissioned?\",\\n    \"Can you provide the latitude and longitude coordinates for the Vineland Headquarters plant?\"\\n  ]\\n}',\n",
       " 5981: '{\\n  \"questions\": [\\n    \"Where is the GSSP Schneider LLC power plant located?\",\\n    \"What is the primary fuel type and capacity of the GSSP Schneider LLC facility?\",\\n    \"When was the GSSP Schneider LLC power plant commissioned?\"\\n  ]\\n}',\n",
       " 3988: '{ \"questions\": [\\n  \"What is the primary fuel source for the Byllesby power plant in the United States of America?\",\\n  \"What is the generation capacity in megawatts and commissioning year of the Byllesby power plant?\",\\n  \"Can you provide the geographical coordinates for the Byllesby power plant?\"\\n ]}',\n",
       " 11574: '{\\n  \"questions\": [\\n    \"In which country is the Turrill Solar Farm located?\",\\n    \"What is the primary fuel source for the Turrill Solar Farm?\",\\n    \"When was the Turrill Solar Farm commissioned?\"\\n  ]\\n}',\n",
       " 6186: '{\\n  \"questions\": [\\n    \"What is the name of the oil-fired power plant located in the United States of America?\",\\n    \"What is the generating capacity in megawatts of the Good Samaritan Hospital power plant?\",\\n    \"When was the Good Samaritan Hospital power plant commissioned?\"\\n  ]\\n}',\n",
       " 11772: '{\\n  \"questions\": [\\n    \"What type of fuel does the Valencia Energy Facility use?\",\\n    \"What is the generating capacity of the Valencia Energy Facility in megawatts?\",\\n    \"In what year was the Valencia Energy Facility commissioned?\"\\n  ]\\n}',\n",
       " 9468: '{ \"questions\": [ \"What is the primary fuel source for the Pine Bluff Mill power plant?\", \"What is the generating capacity of the Pine Bluff Mill facility in megawatts?\", \"In which year was the Pine Bluff Mill power plant commissioned?\" ] }',\n",
       " 5963: '{\\n  \"questions\": [\\n    \"What is the primary fuel source for the GRE Marshan Solar power plant?\",\\n    \"In which country is the GRE Marshan Solar facility located, and what is its capacity in megawatts?\",\\n    \"When was the GRE Marshan Solar power plant commissioned?\"\\n  ]\\n}',\n",
       " 7442: '{\\n  \"questions\": [\\n    \"In which country is the L\\'Oreal Solar - Florence power plant located?\",\\n    \"What is the primary fuel source used by the L\\'Oreal Solar - Florence facility?\",\\n    \"What is the power generation capacity (in MW) of the L\\'Oreal Solar - Florence plant?\"\\n  ]\\n}',\n",
       " 3751: '{\\n  \"questions\": [\\n    \"What is the primary fuel type and capacity of the Bonefish Solar power plant?\",\\n    \"When was the Bonefish Solar power plant commissioned?\",\\n    \"What are the geographical coordinates for the Bonefish Solar facility in the United States of America?\"\\n  ]\\n}',\n",
       " 10869: '{\\n  \"questions\": [\\n    \"What is the primary fuel type and capacity of the Spearville power plant?\",\\n    \"Where is the Spearville facility located, including its latitude and longitude?\",\\n    \"In what year was the Spearville power plant in the United States commissioned?\"\\n  ]\\n}',\n",
       " 4484: '{\\n  \"questions\": [\\n    \"In which country is the Cimarron Bend Wind Project I LLC located?\",\\n    \"What is the primary fuel source for the Cimarron Bend Wind Project I LLC?\",\\n    \"What is the power generation capacity of the Cimarron Bend Wind Project I LLC in megawatts?\"\\n  ]\\n}',\n",
       " 8615: '{\\n  \"questions\": [\\n    \"What is the primary fuel source for the NYP-Hudson Valley Hospital Center power plant?\",\\n    \"When was the NYP-Hudson Valley Hospital Center power plant commissioned and in which country is it located?\",\\n    \"What is the total power capacity of the NYP-Hudson Valley Hospital Center facility?\"\\n  ]\\n}',\n",
       " 3399: '{\\n  \"questions\": [\\n    \"Where is the Barton Chapel Wind Farm located?\",\\n    \"What is the primary fuel type used by the Barton Chapel Wind Farm?\",\\n    \"When was the Barton Chapel Wind Farm commissioned?\"\\n  ]\\n}',\n",
       " 6072: '{\\n  \"questions\": [\\n    \"What type of primary fuel does the Genesis Alkali power plant utilize?\",\\n    \"What is the power generation capacity of the Genesis Alkali facility in megawatts?\",\\n    \"In what year was the Genesis Alkali power plant, located in the United States of America, commissioned?\"\\n  ]\\n}',\n",
       " 3115: '{\\n  \"questions\": [\\n    \"In which country is the Annapolis Solar Park LLC power plant located?\",\\n    \"What is the primary fuel type of the Annapolis Solar Park LLC power plant?\",\\n    \"What is the operational capacity of the Annapolis Solar Park LLC in megawatts?\"\\n  ]\\n}',\n",
       " 1950: '{\\n  \"questions\": [\\n    \"What is the primary fuel source for the Pen Rhiw power plant in the United Kingdom?\",\\n    \"What is the power generation capacity of the Pen Rhiw facility?\",\\n    \"When was the Pen Rhiw power plant commissioned, and what are its geographical coordinates?\"\\n  ]\\n}',\n",
       " 5058: '{ \"questions\": [\\n  \"What is the primary fuel source and capacity of the Deerfield Wind Energy LLC power plant?\",\\n  \"In what country is the Deerfield Wind Energy LLC power plant located?\",\\n  \"When was the Deerfield Wind Energy LLC power plant commissioned?\"\\n] }',\n",
       " 979: '{\\n  \"questions\": [\\n    \"What is the primary fuel source for the Glapwell Power facility?\",\\n    \"What is the generating capacity of the Glapwell Power plant in megawatts?\",\\n    \"When was the Glapwell Power plant commissioned?\"\\n  ]\\n}',\n",
       " 12205: '{\"questions\": [\"What is the primary fuel used by the WestRock Panama City Mill power plant?\", \"What is the generation capacity of the WestRock Panama City Mill in megawatts?\", \"When was the WestRock Panama City Mill power plant commissioned?\"]}',\n",
       " 8628: '{ \"questions\": [ \"In which country is the Nanticoke LFG power plant located?\", \"What is the primary fuel source for the Nanticoke LFG power plant?\", \"When was the Nanticoke LFG power plant commissioned?\" ] }',\n",
       " 4237: '{\\n  \"questions\": [\\n    \"In which country is the Carr Street Generating Station located?\",\\n    \"What is the primary fuel source for the Carr Street Generating Station?\",\\n    \"What is the power generation capacity of the Carr Street Generating Station?\"\\n  ]\\n}',\n",
       " 10610: '{\\n  \"questions\": [\\n    \"What is the primary fuel type for the Sierra Pacific Loyalton Facility?\",\\n    \"What is the power generation capacity of the Sierra Pacific Loyalton Facility?\",\\n    \"In what year was the Sierra Pacific Loyalton Facility commissioned and in which country is it located?\"\\n  ]\\n}',\n",
       " 9034: '{\\n  \"questions\": [\\n    \"What is the primary fuel source for the Onondaga County - Oak Orchard WWTP power plant?\",\\n    \"What is the power capacity in megawatts of the Onondaga County - Oak Orchard WWTP facility?\",\\n    \"In what year was the Onondaga County - Oak Orchard WWTP commissioned, and in which country is it located?\"\\n  ]\\n}',\n",
       " 8807: '{\\n  \"questions\": [\\n    \"In which country is the North Anna power plant located?\",\\n    \"What is the primary fuel source and generating capacity of the North Anna power plant?\",\\n    \"When was the North Anna power plant commissioned?\"\\n  ]\\n}',\n",
       " 9436: '{\\n  \"questions\": [\\n    \"What is the primary fuel source for the Phoenix Airport Rental Car Center power plant?\",\\n    \"What is the generating capacity of the Phoenix Airport Rental Car Center power plant?\",\\n    \"When was the Phoenix Airport Rental Car Center power plant commissioned?\"\\n  ]\\n}',\n",
       " 9753: '{\\n  \"questions\": [\\n    \"In which country is the R W Miller power plant located?\",\\n    \"What is the primary fuel source for the R W Miller power plant?\",\\n    \"What is the generation capacity of the R W Miller power plant in megawatts?\"\\n  ]\\n}',\n",
       " 10057: '{\"questions\": [\"In which country is the Rock Falls Wind Farm LLC power plant located?\", \"What is the primary fuel type and total capacity in megawatts for the Rock Falls Wind Farm LLC?\", \"In what year was the Rock Falls Wind Farm LLC commissioned?\"]}',\n",
       " 6118: '{\\n  \"questions\": [\\n    \"What type of fuel does the Gibbon Solar power plant use, and what is its capacity in megawatts?\",\\n    \"When was the Gibbon Solar power plant in the United States commissioned?\",\\n    \"Can you tell me the country where the Gibbon Solar power plant is located?\"\\n  ]\\n}',\n",
       " 4638: '{\\n  \"questions\": [\\n    \"What is the primary fuel type for the Columbia Canal Hydro power plant?\",\\n    \"What is the installed capacity in MW and the commissioning year of the Columbia Canal Hydro plant?\",\\n    \"What are the latitude and longitude coordinates for the Columbia Canal Hydro power plant?\"\\n  ]\\n}',\n",
       " 3912: '{\\n  \"questions\": [\\n    \"What is the primary fuel source for the Bryon Center power plant?\",\\n    \"When was the Bryon Center power plant in the United States of America commissioned?\",\\n    \"What is the power generation capacity of the Bryon Center facility in megawatts?\"\\n  ]\\n}',\n",
       " 10007: '{\\n  \"questions\": [\\n    \"What type of fuel does the River Solar power plant utilize?\",\\n    \"What is the installed capacity of the River Solar facility?\",\\n    \"Can you provide the geographical coordinates for the River Solar plant?\"\\n  ]\\n}',\n",
       " 1743: '{\\n\"questions\": [\\n\"Which country is the Moor House Wind Farm (resubmission) located in?\",\\n\"What is the primary fuel type and capacity in megawatts for the Moor House Wind Farm (resubmission)?\",\\n\"When was the Moor House Wind Farm (resubmission) commissioned?\"\\n]\\n}',\n",
       " 7782: '{\\n  \"questions\": [\\n    \"In which country is the Lookout Point power plant located?\",\\n    \"What is the primary fuel source for the Lookout Point power plant?\",\\n    \"What is the generating capacity in megawatts of the Lookout Point power plant?\",\\n    \"When was the Lookout Point power plant commissioned?\",\\n    \"Could you tell me both the primary fuel type and the capacity of the Lookout Point facility?\"\\n  ]\\n}',\n",
       " 6128: '{\\n  \"questions\": [\\n    \"In which country is the Gila River Power Block 3 power plant located?\",\\n    \"What is the primary fuel source utilized by the Gila River Power Block 3 facility?\",\\n    \"What are the latitude and longitude coordinates for the Gila River Power Block 3 power plant?\"\\n  ]\\n}',\n",
       " 3458: '{\\n  \"questions\": [\\n    \"What is the primary fuel source for the Bearford Solar II power plant, and in which country is it located?\",\\n    \"What is the generation capacity of the Bearford Solar II power plant and when was it commissioned?\",\\n    \"Can you provide the latitude and longitude coordinates for the Bearford Solar II power plant?\"\\n  ]\\n}',\n",
       " 11584: '{\\n  \"questions\": [\\n    \"In which country is the Twin Bridges LFGTE power plant located?\",\\n    \"What is the primary fuel source utilized by the Twin Bridges LFGTE facility?\",\\n    \"What is the commissioning year and capacity in megawatts for the Twin Bridges LFGTE power plant?\"\\n  ]\\n}',\n",
       " 10042: '{\"questions\": [\\n  \"What is the primary fuel source utilized by the Robert P Mone Plant?\",\\n  \"What is the total power generation capacity of the Robert P Mone Plant in megawatts?\",\\n  \"When was the Robert P Mone Plant commissioned?\"\\n]}',\n",
       " 2442: '{\\n  \"questions\": [\\n    \"What country is the Thorne Colliery power plant located in?\",\\n    \"What is the primary fuel type and capacity in megawatts for the Thorne Colliery power plant?\",\\n    \"What is the commissioning year for the Thorne Colliery power plant?\"\\n  ]\\n}',\n",
       " 10758: '{\"questions\": [\\n  \"What is the primary fuel source for the Soliloquoy Ridge LLC power plant?\",\\n  \"In what year was the Soliloquoy Ridge LLC power plant commissioned and what is its capacity in megawatts?\",\\n  \"Can you provide the latitude and longitude coordinates for the Soliloquoy Ridge LLC power plant?\"\\n]}',\n",
       " 10290: '{\\n  \"questions\": [\\n    \"In which country is the Saint Marys Falls power plant located?\",\\n    \"What is the primary fuel type utilized by the Saint Marys Falls facility?\",\\n    \"What are the geographical coordinates of the Saint Marys Falls power plant?\"\\n  ]\\n}',\n",
       " 850: '{\\n  \"questions\": [\\n    \"What is the full name of the wind power plant located in the United Kingdom?\",\\n    \"What is the power generation capacity of the European Offshore Wind Deployment Centre (EOWDC) in megawatts?\",\\n    \"Can you provide the latitude and longitude coordinates for the European Offshore Wind Deployment Centre (EOWDC)?\"\\n  ]\\n}',\n",
       " 6920: '{\"questions\": [\"What is the primary fuel source for the Independence Steam Electric Station?\", \"What is the generation capacity of the Independence Steam Electric Station in megawatts?\", \"In what year was the Independence Steam Electric Station commissioned?\"]}',\n",
       " 8071: '{\\n  \"questions\": [\\n    \"What is the full name of this power plant?\",\\n    \"What is the primary fuel type used by the Mass Inst Tech Cntrl Utilities/Cogen Plt?\",\\n    \"When was the Mass Inst Tech Cntrl Utilities/Cogen Plt commissioned?\"\\n  ]\\n}',\n",
       " 4288: '{\\n  \"questions\": [\\n    \"In which country is the Cataract Hydro power plant located?\",\\n    \"What is the primary fuel source for the Cataract Hydro power plant?\",\\n    \"What is the generation capacity of the Cataract Hydro power plant in megawatts?\"\\n  ]\\n}',\n",
       " 6326: '{\"questions\": [\\n    \"What is the primary fuel source for the Green Power I power plant?\",\\n    \"What is the capacity of the Green Power I plant in megawatts?\",\\n    \"When was the Green Power I power plant commissioned?\",\\n    \"In which country is the Green Power I power plant located?\",\\n    \"Can you provide the latitude and longitude coordinates for the Green Power I power plant?\"\\n]}',\n",
       " 4457: '{\\n  \"questions\": [\\n    \"What is the primary fuel type used by the Chino Solar Valley power plant?\",\\n    \"In which year was the Chino Solar Valley power plant commissioned?\",\\n    \"What is the generation capacity of the Chino Solar Valley power plant in megawatts?\",\\n    \"Which country is the Chino Solar Valley power plant located in?\",\\n    \"What are the latitude and longitude coordinates of the Chino Solar Valley power plant?\"\\n  ]\\n}',\n",
       " 10296: '{\\n  \"questions\": [\\n    \"In which country is the Salem Street Dept power plant located?\",\\n    \"What is the primary fuel source for the Salem Street Dept power plant?\",\\n    \"When was the Salem Street Dept power plant commissioned?\"\\n  ]\\n}',\n",
       " 8531: '{\\n  \"questions\": [\\n    \"What is the primary fuel type for the Mtn. Solar 1 power plant?\",\\n    \"When was the Mtn. Solar 1 power plant commissioned?\",\\n    \"What are the latitude and longitude coordinates for the Mtn. Solar 1 power plant?\"\\n  ]\\n}',\n",
       " 3989: '{\\n  \"questions\": [\\n    \"What is the primary fuel source and capacity of the Byllesby 2 power plant?\",\\n    \"In what year was the Byllesby 2 power plant commissioned?\",\\n    \"Which country is the Byllesby 2 power plant located in?\"\\n  ]\\n}',\n",
       " 1482: '{\\n  \"questions\": [\\n    \"What is the primary fuel type for the Land west of Welton Road power plant?\",\\n    \"What is the capacity of the Land west of Welton Road power plant in megawatts?\",\\n    \"When was the Land west of Welton Road power plant commissioned?\",\\n    \"In which country is the Land west of Welton Road power plant located?\",\\n    \"What are the geographic coordinates (latitude and longitude) for the Land west of Welton Road power plant?\"\\n  ]\\n}',\n",
       " 5639: '{\\n  \"questions\": [\\n    \"What is the primary fuel source for the Falls Village power plant?\",\\n    \"When was the Falls Village power plant commissioned and what is its capacity in megawatts?\",\\n    \"Can you provide the latitude and longitude coordinates for the Falls Village power plant?\"\\n  ]\\n}',\n",
       " 8978: '{\\n  \"questions\": [\\n    \"What is the primary fuel source for the Ocotillo power plant?\",\\n    \"In which country is the Ocotillo power plant located?\",\\n    \"What is the generating capacity of the Ocotillo power plant?\"\\n  ]\\n}',\n",
       " 8398: '{\\n  \"questions\": [\\n    \"What is the primary fuel source and total capacity of the MontSun Community Solar power plant?\",\\n    \"When was the MontSun Community Solar facility commissioned in the United States?\",\\n    \"Can you provide the specific latitude and longitude coordinates for the MontSun Community Solar power plant?\"\\n  ]\\n}',\n",
       " 2157: '{\\n  \"questions\": [\\n    \"What is the primary fuel source for the Safran Landing Systems Service power plant in the United Kingdom?\",\\n    \"What is the generating capacity of the Safran Landing Systems Service power plant in megawatts?\",\\n    \"When was the Safran Landing Systems Service power plant commissioned?\"\\n  ]\\n}'}"
      ]
     },
     "execution_count": 16,
     "metadata": {},
     "output_type": "execute_result"
    }
   ],
   "source": [
    "results"
   ]
  },
  {
   "cell_type": "code",
   "execution_count": 24,
   "id": "7ad3c5ac-1156-4b7d-9e30-b4002cc9d1d5",
   "metadata": {},
   "outputs": [],
   "source": [
    "final_results = []\n",
    "\n",
    "for doc_id, questions_json in results.items():\n",
    "    try:\n",
    "        # Convert JSON string to Python dict\n",
    "        questions_data = json.loads(questions_json)\n",
    "        \n",
    "        # Extract the list of questions\n",
    "        for q in questions_data[\"questions\"]:\n",
    "            final_results.append((doc_id, q))\n",
    "    except Exception as e:\n",
    "        print(f\"Error parsing doc_id {doc_id}: {e}\")\n"
   ]
  },
  {
   "cell_type": "code",
   "execution_count": 25,
   "id": "6dabf8d4-734e-4b47-8fe5-fc89b8ed18e1",
   "metadata": {},
   "outputs": [
    {
     "data": {
      "text/plain": [
       "(11495, 'What is the primary fuel source for the Townsend Hydro power plant?')"
      ]
     },
     "execution_count": 25,
     "metadata": {},
     "output_type": "execute_result"
    }
   ],
   "source": [
    "final_results[0]"
   ]
  },
  {
   "cell_type": "code",
   "execution_count": 26,
   "id": "c9cd9ca6-97d0-4e33-baf2-5c7f4da902c0",
   "metadata": {
    "jp-MarkdownHeadingCollapsed": true
   },
   "outputs": [
    {
     "data": {
      "text/plain": [
       "(11495,\n",
       " 'What is the generation capacity of the Townsend Hydro power plant in megawatts?')"
      ]
     },
     "execution_count": 26,
     "metadata": {},
     "output_type": "execute_result"
    }
   ],
   "source": [
    "final_results[1]"
   ]
  },
  {
   "cell_type": "code",
   "execution_count": 27,
   "id": "13746e91-3288-43aa-b1a9-0d59e39e2b58",
   "metadata": {},
   "outputs": [
    {
     "data": {
      "text/plain": [
       "(6850, 'In what year was the IKEA Joliet Rooftop PV System commissioned?')"
      ]
     },
     "execution_count": 27,
     "metadata": {},
     "output_type": "execute_result"
    }
   ],
   "source": [
    "final_results[5]"
   ]
  },
  {
   "cell_type": "code",
   "execution_count": 33,
   "id": "210ff106-347b-491e-b2e1-04bace4922e4",
   "metadata": {},
   "outputs": [],
   "source": [
    "df_results = pd.DataFrame(final_results, columns=[\"id\", \"question\"])"
   ]
  },
  {
   "cell_type": "code",
   "execution_count": 34,
   "id": "c13bd451-e24e-4c8b-9bad-71bf0ab85b57",
   "metadata": {},
   "outputs": [
    {
     "data": {
      "text/html": [
       "<div>\n",
       "<style scoped>\n",
       "    .dataframe tbody tr th:only-of-type {\n",
       "        vertical-align: middle;\n",
       "    }\n",
       "\n",
       "    .dataframe tbody tr th {\n",
       "        vertical-align: top;\n",
       "    }\n",
       "\n",
       "    .dataframe thead th {\n",
       "        text-align: right;\n",
       "    }\n",
       "</style>\n",
       "<table border=\"1\" class=\"dataframe\">\n",
       "  <thead>\n",
       "    <tr style=\"text-align: right;\">\n",
       "      <th></th>\n",
       "      <th>id</th>\n",
       "      <th>question</th>\n",
       "    </tr>\n",
       "  </thead>\n",
       "  <tbody>\n",
       "    <tr>\n",
       "      <th>0</th>\n",
       "      <td>11495</td>\n",
       "      <td>What is the primary fuel source for the Townse...</td>\n",
       "    </tr>\n",
       "    <tr>\n",
       "      <th>1</th>\n",
       "      <td>11495</td>\n",
       "      <td>What is the generation capacity of the Townsen...</td>\n",
       "    </tr>\n",
       "    <tr>\n",
       "      <th>2</th>\n",
       "      <td>11495</td>\n",
       "      <td>In what year was the Townsend Hydro power plan...</td>\n",
       "    </tr>\n",
       "    <tr>\n",
       "      <th>3</th>\n",
       "      <td>6850</td>\n",
       "      <td>What is the primary fuel source for the IKEA J...</td>\n",
       "    </tr>\n",
       "    <tr>\n",
       "      <th>4</th>\n",
       "      <td>6850</td>\n",
       "      <td>What is the electrical generation capacity of ...</td>\n",
       "    </tr>\n",
       "    <tr>\n",
       "      <th>...</th>\n",
       "      <td>...</td>\n",
       "      <td>...</td>\n",
       "    </tr>\n",
       "    <tr>\n",
       "      <th>307</th>\n",
       "      <td>8398</td>\n",
       "      <td>When was the MontSun Community Solar facility ...</td>\n",
       "    </tr>\n",
       "    <tr>\n",
       "      <th>308</th>\n",
       "      <td>8398</td>\n",
       "      <td>Can you provide the specific latitude and long...</td>\n",
       "    </tr>\n",
       "    <tr>\n",
       "      <th>309</th>\n",
       "      <td>2157</td>\n",
       "      <td>What is the primary fuel source for the Safran...</td>\n",
       "    </tr>\n",
       "    <tr>\n",
       "      <th>310</th>\n",
       "      <td>2157</td>\n",
       "      <td>What is the generating capacity of the Safran ...</td>\n",
       "    </tr>\n",
       "    <tr>\n",
       "      <th>311</th>\n",
       "      <td>2157</td>\n",
       "      <td>When was the Safran Landing Systems Service po...</td>\n",
       "    </tr>\n",
       "  </tbody>\n",
       "</table>\n",
       "<p>312 rows × 2 columns</p>\n",
       "</div>"
      ],
      "text/plain": [
       "        id                                           question\n",
       "0    11495  What is the primary fuel source for the Townse...\n",
       "1    11495  What is the generation capacity of the Townsen...\n",
       "2    11495  In what year was the Townsend Hydro power plan...\n",
       "3     6850  What is the primary fuel source for the IKEA J...\n",
       "4     6850  What is the electrical generation capacity of ...\n",
       "..     ...                                                ...\n",
       "307   8398  When was the MontSun Community Solar facility ...\n",
       "308   8398  Can you provide the specific latitude and long...\n",
       "309   2157  What is the primary fuel source for the Safran...\n",
       "310   2157  What is the generating capacity of the Safran ...\n",
       "311   2157  When was the Safran Landing Systems Service po...\n",
       "\n",
       "[312 rows x 2 columns]"
      ]
     },
     "execution_count": 34,
     "metadata": {},
     "output_type": "execute_result"
    }
   ],
   "source": [
    "df_results"
   ]
  },
  {
   "cell_type": "code",
   "execution_count": 35,
   "id": "bd3a7e27-3b52-4f89-b90c-1eaac1d9ba9a",
   "metadata": {},
   "outputs": [],
   "source": [
    "df_results.to_csv('../data/ground-truth-retrieval.csv', index=False)"
   ]
  },
  {
   "cell_type": "code",
   "execution_count": 37,
   "id": "0c88ab90-de52-4214-9aaf-b1acd569abfe",
   "metadata": {},
   "outputs": [
    {
     "name": "stdout",
     "output_type": "stream",
     "text": [
      "id,question\n",
      "11495,What is the primary fuel source for the Townsend Hydro power plant?\n",
      "11495,What is the generation capacity of the Townsend Hydro power plant in megawatts?\n",
      "11495,In what year was the Townsend Hydro power plant commissioned?\n",
      "6850,What is the primary fuel source for the IKEA Joliet Rooftop PV System power plant?\n",
      "6850,What is the electrical generation capacity of the IKEA Joliet Rooftop PV System in megawatts?\n",
      "6850,In what year was the IKEA Joliet Rooftop PV System commissioned?\n",
      "11255,Where is the TPE Whitney Solar LLC power plant located and what is its primary fuel type?\n",
      "11255,What is the capacity in megawatts of the TPE Whitney Solar LLC power plant?\n",
      "11255,\"When was the TPE Whitney Solar LLC plant commissioned, and what are its geographical coordinates?\"\n"
     ]
    }
   ],
   "source": [
    "!head ../data/ground-truth-retrieval.csv"
   ]
  },
  {
   "cell_type": "code",
   "execution_count": null,
   "id": "52cb2500-2f18-49ec-bbb1-329d7475600d",
   "metadata": {},
   "outputs": [],
   "source": []
  }
 ],
 "metadata": {
  "kernelspec": {
   "display_name": "Python 3 (ipykernel)",
   "language": "python",
   "name": "python3"
  },
  "language_info": {
   "codemirror_mode": {
    "name": "ipython",
    "version": 3
   },
   "file_extension": ".py",
   "mimetype": "text/x-python",
   "name": "python",
   "nbconvert_exporter": "python",
   "pygments_lexer": "ipython3",
   "version": "3.10.12"
  }
 },
 "nbformat": 4,
 "nbformat_minor": 5
}
